{
  "nbformat": 4,
  "nbformat_minor": 0,
  "metadata": {
    "colab": {
      "provenance": [],
      "authorship_tag": "ABX9TyM3fSxgCvE0qG7VNbdidOLY",
      "include_colab_link": true
    },
    "kernelspec": {
      "name": "python3",
      "display_name": "Python 3"
    },
    "language_info": {
      "name": "python"
    },
    "accelerator": "GPU",
    "gpuClass": "standard"
  },
  "cells": [
    {
      "cell_type": "markdown",
      "metadata": {
        "id": "view-in-github",
        "colab_type": "text"
      },
      "source": [
        "<a href=\"https://colab.research.google.com/github/NeonRio/imdb_lstm_sentimental_classification/blob/main/IMDB_sentimental_classification.ipynb\" target=\"_parent\"><img src=\"https://colab.research.google.com/assets/colab-badge.svg\" alt=\"Open In Colab\"/></a>"
      ]
    },
    {
      "cell_type": "markdown",
      "source": [
        "##IMDB Dataset sentimental classification using LSTM and Keras"
      ],
      "metadata": {
        "id": "xZY4Qnoa3sAf"
      }
    },
    {
      "cell_type": "markdown",
      "source": [
        "Don't forget to connect GPU to speed up train process"
      ],
      "metadata": {
        "id": "WqHleeVSoPJW"
      }
    },
    {
      "cell_type": "code",
      "source": [
        "from keras.datasets import imdb\n",
        "from keras.models import Sequential\n",
        "from keras.layers import Dense, Embedding, LSTM, BatchNormalization, Conv1D, MaxPool1D, Dropout\n",
        "from keras import utils, regularizers\n",
        "from keras_preprocessing.sequence import pad_sequences\n",
        "\n",
        "import numpy as np\n",
        "import matplotlib.pyplot as plt\n",
        "%matplotlib inline"
      ],
      "metadata": {
        "id": "g3QI5nB5n5D_"
      },
      "execution_count": 114,
      "outputs": []
    },
    {
      "cell_type": "markdown",
      "source": [
        "## Let's load our data"
      ],
      "metadata": {
        "id": "aviR8jMvpNlF"
      }
    },
    {
      "cell_type": "code",
      "source": [
        "max_words=10000"
      ],
      "metadata": {
        "id": "gA9KLLn2o1qt"
      },
      "execution_count": 115,
      "outputs": []
    },
    {
      "cell_type": "code",
      "source": [
        "(x_train, y_train), (x_test, y_test) = imdb.load_data(num_words=max_words)"
      ],
      "metadata": {
        "id": "ZjPnzYxlpTkc"
      },
      "execution_count": 116,
      "outputs": []
    },
    {
      "cell_type": "markdown",
      "source": [
        "## Data preparation before training"
      ],
      "metadata": {
        "id": "-PGtx4LGpxrd"
      }
    },
    {
      "cell_type": "code",
      "source": [
        "maxlen=200"
      ],
      "metadata": {
        "id": "FbRFOmZYpr8d"
      },
      "execution_count": 117,
      "outputs": []
    },
    {
      "cell_type": "code",
      "source": [
        "x_train = pad_sequences(x_train, maxlen=maxlen)\n",
        "x_test = pad_sequences(x_test, maxlen=maxlen)"
      ],
      "metadata": {
        "id": "EgielG5Jp-i-"
      },
      "execution_count": 118,
      "outputs": []
    },
    {
      "cell_type": "markdown",
      "source": [
        "Let's look at an instance from our X data."
      ],
      "metadata": {
        "id": "ZMjtnApNqRLt"
      }
    },
    {
      "cell_type": "code",
      "source": [
        "x_train[2000]"
      ],
      "metadata": {
        "colab": {
          "base_uri": "https://localhost:8080/"
        },
        "id": "BfPFX56aqtX9",
        "outputId": "1afb34b6-e756-4b85-d743-06a29cbac4a7"
      },
      "execution_count": 119,
      "outputs": [
        {
          "output_type": "execute_result",
          "data": {
            "text/plain": [
              "array([   0,    0,    0,    0,    0,    0,    0,    0,    0,    0,    0,\n",
              "          0,    0,    0,    0,    0,    0,    0,    0,    0,    0,    0,\n",
              "          0,    0,    0,    0,    0,    0,    0,    0,    0,    0,    0,\n",
              "          0,    0,    0,    0,    0,    0,    0,    0,    0,    0,    0,\n",
              "          0,    0,    0,    0,    0,    0,    0,    0,    0,    0,    0,\n",
              "          0,    0,    0,    0,    0,    0,    0,    0,    0,    0,    0,\n",
              "          0,    0,    0,    0,    0,    0,    0,    0,    0,    0,    0,\n",
              "          0,    0,    0,    0,    0,    0,    0,    0,    0,    0,    0,\n",
              "          0,    0,    0,    1,   14,   20, 1870,   39,  454, 2449,  262,\n",
              "          4,  130,   25,  242,   92,   79,    2,  101,  433,  116,  769,\n",
              "       1381,  370,  157,    2,   45,   32,   78,   55,   55,   78,   10,\n",
              "         10,   21,  198,   51,  166,   12,    6,    2,  106,   12,   80,\n",
              "        202,   25,   53,   74,  195,   52,  919,    4,  433,    4,  128,\n",
              "         10,   10,   13,   66,   28,   57, 2307,   51,   38,  126,    7,\n",
              "         51,  134,   84,   71,  536,  231,   14,   20,    6,  622,    2,\n",
              "         20,    4,   65,    9,    2,  647,   45,   53,   40,    6,  212,\n",
              "         11, 5659, 1932,   40, 3493,   82, 1149,   21, 1543,  163,   10,\n",
              "         10,    5,  168,   46,   18,    4,   55,   55,  130,    7,    4,\n",
              "         20,    2], dtype=int32)"
            ]
          },
          "metadata": {},
          "execution_count": 119
        }
      ]
    },
    {
      "cell_type": "markdown",
      "source": [
        "##Neural Network creation process"
      ],
      "metadata": {
        "id": "41Z1SKKyqzPN"
      }
    },
    {
      "cell_type": "code",
      "source": [
        "model=Sequential([\n",
        "    Embedding(max_words, 100, input_length=maxlen, trainable=True),\n",
        "    Conv1D(filters=32, kernel_size=3, padding='same', activation='relu'),\n",
        "    MaxPool1D(pool_size=2),\n",
        "    LSTM(32),\n",
        "    Dense(1, activation='sigmoid')\n",
        "])"
      ],
      "metadata": {
        "id": "mAA06deHqusl"
      },
      "execution_count": 120,
      "outputs": []
    },
    {
      "cell_type": "code",
      "source": [
        "model.compile(optimizer='adam', loss='binary_crossentropy', metrics=['accuracy'])"
      ],
      "metadata": {
        "id": "msdPwKtIrMp8"
      },
      "execution_count": 123,
      "outputs": []
    },
    {
      "cell_type": "code",
      "source": [
        "model.summary()"
      ],
      "metadata": {
        "colab": {
          "base_uri": "https://localhost:8080/"
        },
        "id": "CWsgowfprTmd",
        "outputId": "f7003cff-f34f-4671-b09c-146b76651364"
      },
      "execution_count": 124,
      "outputs": [
        {
          "output_type": "stream",
          "name": "stdout",
          "text": [
            "Model: \"sequential_23\"\n",
            "_________________________________________________________________\n",
            " Layer (type)                Output Shape              Param #   \n",
            "=================================================================\n",
            " embedding_27 (Embedding)    (None, 200, 100)          1000000   \n",
            "                                                                 \n",
            " conv1d_8 (Conv1D)           (None, 200, 32)           9632      \n",
            "                                                                 \n",
            " max_pooling1d_6 (MaxPooling  (None, 100, 32)          0         \n",
            " 1D)                                                             \n",
            "                                                                 \n",
            " lstm_25 (LSTM)              (None, 32)                8320      \n",
            "                                                                 \n",
            " dense_23 (Dense)            (None, 1)                 33        \n",
            "                                                                 \n",
            "=================================================================\n",
            "Total params: 1,017,985\n",
            "Trainable params: 1,017,985\n",
            "Non-trainable params: 0\n",
            "_________________________________________________________________\n"
          ]
        }
      ]
    },
    {
      "cell_type": "markdown",
      "source": [
        "##Neural Network training process"
      ],
      "metadata": {
        "id": "Z72So89OrlYu"
      }
    },
    {
      "cell_type": "code",
      "source": [
        "nn_history = model.fit(x_train, y_train, epochs=10, batch_size=128, validation_split=0.1)"
      ],
      "metadata": {
        "colab": {
          "base_uri": "https://localhost:8080/"
        },
        "id": "hncxguTyrVKl",
        "outputId": "8047da75-c26f-4977-e7d7-d660f4926cbc"
      },
      "execution_count": 125,
      "outputs": [
        {
          "output_type": "stream",
          "name": "stdout",
          "text": [
            "Epoch 1/10\n",
            "176/176 [==============================] - 4s 13ms/step - loss: 0.4488 - accuracy: 0.7748 - val_loss: 0.3033 - val_accuracy: 0.8804\n",
            "Epoch 2/10\n",
            "176/176 [==============================] - 2s 10ms/step - loss: 0.2110 - accuracy: 0.9204 - val_loss: 0.2971 - val_accuracy: 0.8852\n",
            "Epoch 3/10\n",
            "176/176 [==============================] - 2s 10ms/step - loss: 0.1295 - accuracy: 0.9563 - val_loss: 0.3276 - val_accuracy: 0.8780\n",
            "Epoch 4/10\n",
            "176/176 [==============================] - 2s 10ms/step - loss: 0.0838 - accuracy: 0.9746 - val_loss: 0.4002 - val_accuracy: 0.8732\n",
            "Epoch 5/10\n",
            "176/176 [==============================] - 2s 10ms/step - loss: 0.0580 - accuracy: 0.9830 - val_loss: 0.4494 - val_accuracy: 0.8676\n",
            "Epoch 6/10\n",
            "176/176 [==============================] - 2s 10ms/step - loss: 0.0416 - accuracy: 0.9883 - val_loss: 0.4401 - val_accuracy: 0.8728\n",
            "Epoch 7/10\n",
            "176/176 [==============================] - 2s 10ms/step - loss: 0.0278 - accuracy: 0.9928 - val_loss: 0.5531 - val_accuracy: 0.8724\n",
            "Epoch 8/10\n",
            "176/176 [==============================] - 2s 10ms/step - loss: 0.0250 - accuracy: 0.9944 - val_loss: 0.5263 - val_accuracy: 0.8760\n",
            "Epoch 9/10\n",
            "176/176 [==============================] - 2s 10ms/step - loss: 0.0363 - accuracy: 0.9880 - val_loss: 0.4907 - val_accuracy: 0.8716\n",
            "Epoch 10/10\n",
            "176/176 [==============================] - 2s 10ms/step - loss: 0.0184 - accuracy: 0.9952 - val_loss: 0.5817 - val_accuracy: 0.8788\n"
          ]
        }
      ]
    },
    {
      "cell_type": "code",
      "source": [
        "plt.plot(nn_history.history['accuracy'], label=\"Right answers ratio for training set\")\n",
        "plt.plot(nn_history.history['val_accuracy'], label=\"Right answers ratio for validation set\")\n",
        "plt.xlabel(\"Training epoch\")\n",
        "plt.ylabel(\"Right answer ratio\")\n",
        "plt.legend()\n",
        "plt.show()"
      ],
      "metadata": {
        "colab": {
          "base_uri": "https://localhost:8080/",
          "height": 279
        },
        "id": "yxA5cZBer8vV",
        "outputId": "8a4cd285-b0f1-4c17-ffc3-f2291ff73f8b"
      },
      "execution_count": 126,
      "outputs": [
        {
          "output_type": "display_data",
          "data": {
            "text/plain": [
              "<Figure size 432x288 with 1 Axes>"
            ],
            "image/png": "[encoded data removed]"
          },
          "metadata": {
            "needs_background": "light"
          }
        }
      ]
    },
    {
      "cell_type": "markdown",
      "source": [
        "In graph we see that our model overfitted."
      ],
      "metadata": {
        "id": "TGgrR8xet4f3"
      }
    },
    {
      "cell_type": "markdown",
      "source": [
        "##Neural Network accuracy on test dataset"
      ],
      "metadata": {
        "id": "uBEBH6dquM1t"
      }
    },
    {
      "cell_type": "code",
      "source": [
        "scores = model.evaluate(x_test, y_test, verbose=1)"
      ],
      "metadata": {
        "colab": {
          "base_uri": "https://localhost:8080/"
        },
        "id": "iKFbjwcRuTjg",
        "outputId": "85b9ff85-570c-4c59-c43b-71eec54d71a4"
      },
      "execution_count": 127,
      "outputs": [
        {
          "output_type": "stream",
          "name": "stdout",
          "text": [
            "782/782 [==============================] - 4s 5ms/step - loss: 0.6555 - accuracy: 0.8577\n"
          ]
        }
      ]
    },
    {
      "cell_type": "markdown",
      "source": [
        "Thus we have overfitting, but we have 86% accuracy on test dataset. That's a good result for this simple NN."
      ],
      "metadata": {
        "id": "yz_X0IVq2e0N"
      }
    }
  ]
}